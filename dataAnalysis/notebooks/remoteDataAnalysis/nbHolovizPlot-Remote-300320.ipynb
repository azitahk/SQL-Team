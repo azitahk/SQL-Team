{
 "cells": [
  {
   "cell_type": "code",
   "execution_count": null,
   "metadata": {},
   "outputs": [],
   "source": [
    "#set up remote user permissions in phpmyadmin\n",
    "#configure MySQL and firewall rules for remote connections on port 3306\n",
    "# Ref - https://www.digitalocean.com/community/tutorials/how-to-allow-remote-access-to-mysql"
   ]
  },
  {
   "cell_type": "code",
   "execution_count": 1,
   "metadata": {},
   "outputs": [
    {
     "data": {
      "text/html": [
       "<div>\n",
       "<style scoped>\n",
       "    .dataframe tbody tr th:only-of-type {\n",
       "        vertical-align: middle;\n",
       "    }\n",
       "\n",
       "    .dataframe tbody tr th {\n",
       "        vertical-align: top;\n",
       "    }\n",
       "\n",
       "    .dataframe thead th {\n",
       "        text-align: right;\n",
       "    }\n",
       "</style>\n",
       "<table border=\"1\" class=\"dataframe\">\n",
       "  <thead>\n",
       "    <tr style=\"text-align: right;\">\n",
       "      <th></th>\n",
       "      <th>id</th>\n",
       "      <th>roomName</th>\n",
       "      <th>humidity</th>\n",
       "      <th>temperature</th>\n",
       "      <th>outsideTemp</th>\n",
       "      <th>CO2</th>\n",
       "      <th>readDate</th>\n",
       "    </tr>\n",
       "  </thead>\n",
       "  <tbody>\n",
       "    <tr>\n",
       "      <th>0</th>\n",
       "      <td>1</td>\n",
       "      <td>E223</td>\n",
       "      <td>47.63</td>\n",
       "      <td>27.64</td>\n",
       "      <td>None</td>\n",
       "      <td>None</td>\n",
       "      <td>2020-04-20 14:51:25</td>\n",
       "    </tr>\n",
       "    <tr>\n",
       "      <th>1</th>\n",
       "      <td>2</td>\n",
       "      <td>E223</td>\n",
       "      <td>47.58</td>\n",
       "      <td>27.60</td>\n",
       "      <td>None</td>\n",
       "      <td>None</td>\n",
       "      <td>2020-04-20 15:51:25</td>\n",
       "    </tr>\n",
       "    <tr>\n",
       "      <th>2</th>\n",
       "      <td>3</td>\n",
       "      <td>E223</td>\n",
       "      <td>47.52</td>\n",
       "      <td>27.63</td>\n",
       "      <td>None</td>\n",
       "      <td>None</td>\n",
       "      <td>2020-04-20 16:51:25</td>\n",
       "    </tr>\n",
       "    <tr>\n",
       "      <th>3</th>\n",
       "      <td>4</td>\n",
       "      <td>E223</td>\n",
       "      <td>48.62</td>\n",
       "      <td>28.61</td>\n",
       "      <td>None</td>\n",
       "      <td>None</td>\n",
       "      <td>2020-04-27 12:34:53</td>\n",
       "    </tr>\n",
       "    <tr>\n",
       "      <th>4</th>\n",
       "      <td>5</td>\n",
       "      <td>E223</td>\n",
       "      <td>48.58</td>\n",
       "      <td>28.62</td>\n",
       "      <td>None</td>\n",
       "      <td>None</td>\n",
       "      <td>2020-04-27 12:34:55</td>\n",
       "    </tr>\n",
       "  </tbody>\n",
       "</table>\n",
       "</div>"
      ],
      "text/plain": [
       "   id roomName humidity temperature outsideTemp   CO2            readDate\n",
       "0   1     E223    47.63       27.64        None  None 2020-04-20 14:51:25\n",
       "1   2     E223    47.58       27.60        None  None 2020-04-20 15:51:25\n",
       "2   3     E223    47.52       27.63        None  None 2020-04-20 16:51:25\n",
       "3   4     E223    48.62       28.61        None  None 2020-04-27 12:34:53\n",
       "4   5     E223    48.58       28.62        None  None 2020-04-27 12:34:55"
      ]
     },
     "execution_count": 1,
     "metadata": {},
     "output_type": "execute_result"
    }
   ],
   "source": [
    "import mysql.connector\n",
    "import pandas as pd\n",
    "\n",
    "#need to set up remote connections in phpmyadmin\n",
    "# auth plugin added for 20.04\n",
    "i40db = mysql.connector.connect(\n",
    "  host=\"10.0.0.49\",\n",
    "  user=\"I40Remote\",\n",
    "  passwd=\"Password1\",\n",
    "  database=\"Industry40db\",\n",
    "  auth_plugin='mysql_native_password'\n",
    ")\n",
    "\n",
    "\n",
    "df = pd.read_sql('SELECT * FROM roomData', con=i40db)\n",
    "\n",
    "# view first 5 records in DataFrame\n",
    "df.head()"
   ]
  },
  {
   "cell_type": "code",
   "execution_count": 3,
   "metadata": {},
   "outputs": [],
   "source": [
    "#close tcp connection\n",
    "i40db.close()"
   ]
  },
  {
   "cell_type": "code",
   "execution_count": 5,
   "metadata": {},
   "outputs": [
    {
     "data": {
      "text/html": [
       "<div>\n",
       "<style scoped>\n",
       "    .dataframe tbody tr th:only-of-type {\n",
       "        vertical-align: middle;\n",
       "    }\n",
       "\n",
       "    .dataframe tbody tr th {\n",
       "        vertical-align: top;\n",
       "    }\n",
       "\n",
       "    .dataframe thead th {\n",
       "        text-align: right;\n",
       "    }\n",
       "</style>\n",
       "<table border=\"1\" class=\"dataframe\">\n",
       "  <thead>\n",
       "    <tr style=\"text-align: right;\">\n",
       "      <th></th>\n",
       "      <th>id</th>\n",
       "      <th>roomName</th>\n",
       "      <th>humidity</th>\n",
       "      <th>temperature</th>\n",
       "      <th>outsideTemp</th>\n",
       "      <th>CO2</th>\n",
       "      <th>readDate</th>\n",
       "    </tr>\n",
       "  </thead>\n",
       "  <tbody>\n",
       "    <tr>\n",
       "      <th>4</th>\n",
       "      <td>5</td>\n",
       "      <td>E223</td>\n",
       "      <td>48.58</td>\n",
       "      <td>28.62</td>\n",
       "      <td>None</td>\n",
       "      <td>None</td>\n",
       "      <td>2020-04-27 12:34:55</td>\n",
       "    </tr>\n",
       "    <tr>\n",
       "      <th>5</th>\n",
       "      <td>6</td>\n",
       "      <td>E223</td>\n",
       "      <td>48.52</td>\n",
       "      <td>28.68</td>\n",
       "      <td>None</td>\n",
       "      <td>None</td>\n",
       "      <td>2020-04-27 12:34:57</td>\n",
       "    </tr>\n",
       "    <tr>\n",
       "      <th>6</th>\n",
       "      <td>7</td>\n",
       "      <td>E223</td>\n",
       "      <td>47.63</td>\n",
       "      <td>27.64</td>\n",
       "      <td>None</td>\n",
       "      <td>None</td>\n",
       "      <td>2020-04-27 12:44:46</td>\n",
       "    </tr>\n",
       "    <tr>\n",
       "      <th>7</th>\n",
       "      <td>8</td>\n",
       "      <td>E223</td>\n",
       "      <td>47.58</td>\n",
       "      <td>27.60</td>\n",
       "      <td>None</td>\n",
       "      <td>None</td>\n",
       "      <td>2020-04-27 13:44:46</td>\n",
       "    </tr>\n",
       "    <tr>\n",
       "      <th>8</th>\n",
       "      <td>9</td>\n",
       "      <td>E223</td>\n",
       "      <td>47.52</td>\n",
       "      <td>27.63</td>\n",
       "      <td>None</td>\n",
       "      <td>None</td>\n",
       "      <td>2020-04-27 14:44:46</td>\n",
       "    </tr>\n",
       "  </tbody>\n",
       "</table>\n",
       "</div>"
      ],
      "text/plain": [
       "   id roomName humidity temperature outsideTemp   CO2            readDate\n",
       "4   5     E223    48.58       28.62        None  None 2020-04-27 12:34:55\n",
       "5   6     E223    48.52       28.68        None  None 2020-04-27 12:34:57\n",
       "6   7     E223    47.63       27.64        None  None 2020-04-27 12:44:46\n",
       "7   8     E223    47.58       27.60        None  None 2020-04-27 13:44:46\n",
       "8   9     E223    47.52       27.63        None  None 2020-04-27 14:44:46"
      ]
     },
     "execution_count": 5,
     "metadata": {},
     "output_type": "execute_result"
    }
   ],
   "source": [
    "df.tail()"
   ]
  },
  {
   "cell_type": "code",
   "execution_count": 6,
   "metadata": {},
   "outputs": [
    {
     "name": "stdout",
     "output_type": "stream",
     "text": [
      "0   2020-04-20 14:51:25\n",
      "1   2020-04-20 15:51:25\n",
      "2   2020-04-20 16:51:25\n",
      "3   2020-04-27 12:34:53\n",
      "4   2020-04-27 12:34:55\n",
      "5   2020-04-27 12:34:57\n",
      "6   2020-04-27 12:44:46\n",
      "7   2020-04-27 13:44:46\n",
      "8   2020-04-27 14:44:46\n",
      "Name: readDate, dtype: datetime64[ns]\n"
     ]
    }
   ],
   "source": [
    "print(df['readDate'])\n"
   ]
  },
  {
   "cell_type": "code",
   "execution_count": 7,
   "metadata": {},
   "outputs": [
    {
     "data": {
      "text/html": [
       "<div>\n",
       "<style scoped>\n",
       "    .dataframe tbody tr th:only-of-type {\n",
       "        vertical-align: middle;\n",
       "    }\n",
       "\n",
       "    .dataframe tbody tr th {\n",
       "        vertical-align: top;\n",
       "    }\n",
       "\n",
       "    .dataframe thead th {\n",
       "        text-align: right;\n",
       "    }\n",
       "</style>\n",
       "<table border=\"1\" class=\"dataframe\">\n",
       "  <thead>\n",
       "    <tr style=\"text-align: right;\">\n",
       "      <th></th>\n",
       "      <th>id</th>\n",
       "      <th>roomName</th>\n",
       "      <th>humidity</th>\n",
       "      <th>temperature</th>\n",
       "      <th>outsideTemp</th>\n",
       "      <th>CO2</th>\n",
       "      <th>readDate</th>\n",
       "    </tr>\n",
       "  </thead>\n",
       "  <tbody>\n",
       "    <tr>\n",
       "      <th>0</th>\n",
       "      <td>1</td>\n",
       "      <td>E223</td>\n",
       "      <td>47.63</td>\n",
       "      <td>27.64</td>\n",
       "      <td>None</td>\n",
       "      <td>None</td>\n",
       "      <td>2020-04-20 14:51:25</td>\n",
       "    </tr>\n",
       "    <tr>\n",
       "      <th>1</th>\n",
       "      <td>2</td>\n",
       "      <td>E223</td>\n",
       "      <td>47.58</td>\n",
       "      <td>27.60</td>\n",
       "      <td>None</td>\n",
       "      <td>None</td>\n",
       "      <td>2020-04-20 15:51:25</td>\n",
       "    </tr>\n",
       "    <tr>\n",
       "      <th>2</th>\n",
       "      <td>3</td>\n",
       "      <td>E223</td>\n",
       "      <td>47.52</td>\n",
       "      <td>27.63</td>\n",
       "      <td>None</td>\n",
       "      <td>None</td>\n",
       "      <td>2020-04-20 16:51:25</td>\n",
       "    </tr>\n",
       "    <tr>\n",
       "      <th>3</th>\n",
       "      <td>4</td>\n",
       "      <td>E223</td>\n",
       "      <td>48.62</td>\n",
       "      <td>28.61</td>\n",
       "      <td>None</td>\n",
       "      <td>None</td>\n",
       "      <td>2020-04-27 12:34:53</td>\n",
       "    </tr>\n",
       "    <tr>\n",
       "      <th>4</th>\n",
       "      <td>5</td>\n",
       "      <td>E223</td>\n",
       "      <td>48.58</td>\n",
       "      <td>28.62</td>\n",
       "      <td>None</td>\n",
       "      <td>None</td>\n",
       "      <td>2020-04-27 12:34:55</td>\n",
       "    </tr>\n",
       "  </tbody>\n",
       "</table>\n",
       "</div>"
      ],
      "text/plain": [
       "   id roomName humidity temperature outsideTemp   CO2            readDate\n",
       "0   1     E223    47.63       27.64        None  None 2020-04-20 14:51:25\n",
       "1   2     E223    47.58       27.60        None  None 2020-04-20 15:51:25\n",
       "2   3     E223    47.52       27.63        None  None 2020-04-20 16:51:25\n",
       "3   4     E223    48.62       28.61        None  None 2020-04-27 12:34:53\n",
       "4   5     E223    48.58       28.62        None  None 2020-04-27 12:34:55"
      ]
     },
     "execution_count": 7,
     "metadata": {},
     "output_type": "execute_result"
    }
   ],
   "source": [
    "df.head()"
   ]
  },
  {
   "cell_type": "code",
   "execution_count": 8,
   "metadata": {},
   "outputs": [
    {
     "data": {
      "text/html": [
       "<div>\n",
       "<style scoped>\n",
       "    .dataframe tbody tr th:only-of-type {\n",
       "        vertical-align: middle;\n",
       "    }\n",
       "\n",
       "    .dataframe tbody tr th {\n",
       "        vertical-align: top;\n",
       "    }\n",
       "\n",
       "    .dataframe thead th {\n",
       "        text-align: right;\n",
       "    }\n",
       "</style>\n",
       "<table border=\"1\" class=\"dataframe\">\n",
       "  <thead>\n",
       "    <tr style=\"text-align: right;\">\n",
       "      <th></th>\n",
       "      <th>id</th>\n",
       "      <th>roomName</th>\n",
       "      <th>humidity</th>\n",
       "      <th>temperature</th>\n",
       "      <th>readDate</th>\n",
       "    </tr>\n",
       "  </thead>\n",
       "  <tbody>\n",
       "    <tr>\n",
       "      <th>0</th>\n",
       "      <td>1</td>\n",
       "      <td>E223</td>\n",
       "      <td>47.63</td>\n",
       "      <td>27.64</td>\n",
       "      <td>2020-04-20 14:51:25</td>\n",
       "    </tr>\n",
       "    <tr>\n",
       "      <th>1</th>\n",
       "      <td>2</td>\n",
       "      <td>E223</td>\n",
       "      <td>47.58</td>\n",
       "      <td>27.60</td>\n",
       "      <td>2020-04-20 15:51:25</td>\n",
       "    </tr>\n",
       "    <tr>\n",
       "      <th>2</th>\n",
       "      <td>3</td>\n",
       "      <td>E223</td>\n",
       "      <td>47.52</td>\n",
       "      <td>27.63</td>\n",
       "      <td>2020-04-20 16:51:25</td>\n",
       "    </tr>\n",
       "    <tr>\n",
       "      <th>3</th>\n",
       "      <td>4</td>\n",
       "      <td>E223</td>\n",
       "      <td>48.62</td>\n",
       "      <td>28.61</td>\n",
       "      <td>2020-04-27 12:34:53</td>\n",
       "    </tr>\n",
       "    <tr>\n",
       "      <th>4</th>\n",
       "      <td>5</td>\n",
       "      <td>E223</td>\n",
       "      <td>48.58</td>\n",
       "      <td>28.62</td>\n",
       "      <td>2020-04-27 12:34:55</td>\n",
       "    </tr>\n",
       "  </tbody>\n",
       "</table>\n",
       "</div>"
      ],
      "text/plain": [
       "   id roomName humidity temperature            readDate\n",
       "0   1     E223    47.63       27.64 2020-04-20 14:51:25\n",
       "1   2     E223    47.58       27.60 2020-04-20 15:51:25\n",
       "2   3     E223    47.52       27.63 2020-04-20 16:51:25\n",
       "3   4     E223    48.62       28.61 2020-04-27 12:34:53\n",
       "4   5     E223    48.58       28.62 2020-04-27 12:34:55"
      ]
     },
     "execution_count": 8,
     "metadata": {},
     "output_type": "execute_result"
    }
   ],
   "source": [
    "#drop empty columns (axis = 1) in place ie in the Dataframe\n",
    "df.drop('outsideTemp', axis=1, inplace=True)\n",
    "df.drop('CO2', axis=1, inplace=True)\n",
    "df.head()"
   ]
  },
  {
   "cell_type": "code",
   "execution_count": 9,
   "metadata": {},
   "outputs": [
    {
     "data": {
      "text/html": [
       "<div>\n",
       "<style scoped>\n",
       "    .dataframe tbody tr th:only-of-type {\n",
       "        vertical-align: middle;\n",
       "    }\n",
       "\n",
       "    .dataframe tbody tr th {\n",
       "        vertical-align: top;\n",
       "    }\n",
       "\n",
       "    .dataframe thead th {\n",
       "        text-align: right;\n",
       "    }\n",
       "</style>\n",
       "<table border=\"1\" class=\"dataframe\">\n",
       "  <thead>\n",
       "    <tr style=\"text-align: right;\">\n",
       "      <th></th>\n",
       "      <th>id</th>\n",
       "      <th>roomName</th>\n",
       "      <th>humidity</th>\n",
       "      <th>temperature</th>\n",
       "      <th>readDate</th>\n",
       "      <th>Date</th>\n",
       "      <th>Time</th>\n",
       "    </tr>\n",
       "  </thead>\n",
       "  <tbody>\n",
       "    <tr>\n",
       "      <th>0</th>\n",
       "      <td>1</td>\n",
       "      <td>E223</td>\n",
       "      <td>47.63</td>\n",
       "      <td>27.64</td>\n",
       "      <td>2020-04-20 14:51:25</td>\n",
       "      <td>2020-04-20</td>\n",
       "      <td>14:51:25</td>\n",
       "    </tr>\n",
       "    <tr>\n",
       "      <th>1</th>\n",
       "      <td>2</td>\n",
       "      <td>E223</td>\n",
       "      <td>47.58</td>\n",
       "      <td>27.60</td>\n",
       "      <td>2020-04-20 15:51:25</td>\n",
       "      <td>2020-04-20</td>\n",
       "      <td>15:51:25</td>\n",
       "    </tr>\n",
       "    <tr>\n",
       "      <th>2</th>\n",
       "      <td>3</td>\n",
       "      <td>E223</td>\n",
       "      <td>47.52</td>\n",
       "      <td>27.63</td>\n",
       "      <td>2020-04-20 16:51:25</td>\n",
       "      <td>2020-04-20</td>\n",
       "      <td>16:51:25</td>\n",
       "    </tr>\n",
       "    <tr>\n",
       "      <th>3</th>\n",
       "      <td>4</td>\n",
       "      <td>E223</td>\n",
       "      <td>48.62</td>\n",
       "      <td>28.61</td>\n",
       "      <td>2020-04-27 12:34:53</td>\n",
       "      <td>2020-04-27</td>\n",
       "      <td>12:34:53</td>\n",
       "    </tr>\n",
       "    <tr>\n",
       "      <th>4</th>\n",
       "      <td>5</td>\n",
       "      <td>E223</td>\n",
       "      <td>48.58</td>\n",
       "      <td>28.62</td>\n",
       "      <td>2020-04-27 12:34:55</td>\n",
       "      <td>2020-04-27</td>\n",
       "      <td>12:34:55</td>\n",
       "    </tr>\n",
       "  </tbody>\n",
       "</table>\n",
       "</div>"
      ],
      "text/plain": [
       "   id roomName humidity temperature            readDate        Date      Time\n",
       "0   1     E223    47.63       27.64 2020-04-20 14:51:25  2020-04-20  14:51:25\n",
       "1   2     E223    47.58       27.60 2020-04-20 15:51:25  2020-04-20  15:51:25\n",
       "2   3     E223    47.52       27.63 2020-04-20 16:51:25  2020-04-20  16:51:25\n",
       "3   4     E223    48.62       28.61 2020-04-27 12:34:53  2020-04-27  12:34:53\n",
       "4   5     E223    48.58       28.62 2020-04-27 12:34:55  2020-04-27  12:34:55"
      ]
     },
     "execution_count": 9,
     "metadata": {},
     "output_type": "execute_result"
    }
   ],
   "source": [
    "#add columns for Date and Time \n",
    "df['Date'] = df['readDate'].apply(lambda dt: dt.date())\n",
    "df['Time'] = df['readDate'].apply(lambda dt: dt.time())\n",
    "df.head()"
   ]
  },
  {
   "cell_type": "code",
   "execution_count": null,
   "metadata": {},
   "outputs": [],
   "source": []
  },
  {
   "cell_type": "code",
   "execution_count": 10,
   "metadata": {},
   "outputs": [],
   "source": [
    "import matplotlib.pyplot as plt\n",
    "%matplotlib inline"
   ]
  },
  {
   "cell_type": "code",
   "execution_count": 14,
   "metadata": {},
   "outputs": [
    {
     "data": {
      "text/plain": [
       "[<matplotlib.lines.Line2D at 0x20ce8a58fd0>]"
      ]
     },
     "execution_count": 14,
     "metadata": {},
     "output_type": "execute_result"
    },
    {
     "data": {
      "image/png": "[encoded data removed]",
      "text/plain": [
       "<Figure size 720x360 with 1 Axes>"
      ]
     },
     "metadata": {
      "needs_background": "light"
     },
     "output_type": "display_data"
    }
   ],
   "source": [
    "fig, ax = plt.subplots(figsize=(10,5))\n",
    "t = (df['readDate'])\n",
    "ax.plot(t,df['temperature'], label='Temperature')\n",
    "ax.plot(t,df['humidity'], label='Temperature')"
   ]
  },
  {
   "cell_type": "code",
   "execution_count": 13,
   "metadata": {},
   "outputs": [
    {
     "data": {
      "text/plain": [
       "id                      int64\n",
       "roomName               object\n",
       "humidity               object\n",
       "temperature            object\n",
       "readDate       datetime64[ns]\n",
       "Date                   object\n",
       "Time                   object\n",
       "dtype: object"
      ]
     },
     "execution_count": 13,
     "metadata": {},
     "output_type": "execute_result"
    }
   ],
   "source": [
    "df.dtypes"
   ]
  },
  {
   "cell_type": "code",
   "execution_count": 29,
   "metadata": {},
   "outputs": [],
   "source": [
    "# - https://stackoverflow.com/questions/28277137/how-to-convert-datatypeobject-to-float64-in-python\n",
    "df['humidity'] = pd.to_numeric(df['humidity'])"
   ]
  },
  {
   "cell_type": "code",
   "execution_count": 30,
   "metadata": {},
   "outputs": [],
   "source": [
    "df['temperature'] = pd.to_numeric(df['temperature'])"
   ]
  },
  {
   "cell_type": "code",
   "execution_count": 31,
   "metadata": {},
   "outputs": [
    {
     "data": {
      "text/plain": [
       "id                      int64\n",
       "roomName               object\n",
       "humidity              float64\n",
       "temperature           float64\n",
       "readDate       datetime64[ns]\n",
       "Date                   object\n",
       "Time                   object\n",
       "dtype: object"
      ]
     },
     "execution_count": 31,
     "metadata": {},
     "output_type": "execute_result"
    }
   ],
   "source": [
    "df.dtypes"
   ]
  },
  {
   "cell_type": "code",
   "execution_count": null,
   "metadata": {},
   "outputs": [],
   "source": []
  }
 ],
 "metadata": {
  "kernelspec": {
   "display_name": "Python 3",
   "language": "python",
   "name": "python3"
  },
  "language_info": {
   "codemirror_mode": {
    "name": "ipython",
    "version": 3
   },
   "file_extension": ".py",
   "mimetype": "text/x-python",
   "name": "python",
   "nbconvert_exporter": "python",
   "pygments_lexer": "ipython3",
   "version": "3.6.5"
  }
 },
 "nbformat": 4,
 "nbformat_minor": 4
}