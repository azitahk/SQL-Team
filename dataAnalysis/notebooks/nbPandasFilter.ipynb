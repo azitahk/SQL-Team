{
 "cells": [
  {
   "cell_type": "code",
   "execution_count": 8,
   "metadata": {},
   "outputs": [
    {
     "data": {
      "text/html": [
       "<div>\n",
       "<style scoped>\n",
       "    .dataframe tbody tr th:only-of-type {\n",
       "        vertical-align: middle;\n",
       "    }\n",
       "\n",
       "    .dataframe tbody tr th {\n",
       "        vertical-align: top;\n",
       "    }\n",
       "\n",
       "    .dataframe thead th {\n",
       "        text-align: right;\n",
       "    }\n",
       "</style>\n",
       "<table border=\"1\" class=\"dataframe\">\n",
       "  <thead>\n",
       "    <tr style=\"text-align: right;\">\n",
       "      <th></th>\n",
       "      <th>id</th>\n",
       "      <th>roomName</th>\n",
       "      <th>humidity</th>\n",
       "      <th>temperature</th>\n",
       "      <th>outsideTemp</th>\n",
       "      <th>CO2</th>\n",
       "      <th>readDate</th>\n",
       "    </tr>\n",
       "  </thead>\n",
       "  <tbody>\n",
       "    <tr>\n",
       "      <th>0</th>\n",
       "      <td>1</td>\n",
       "      <td>E223</td>\n",
       "      <td>47.63</td>\n",
       "      <td>27.64</td>\n",
       "      <td>None</td>\n",
       "      <td>None</td>\n",
       "      <td>2020-03-13 12:46:06</td>\n",
       "    </tr>\n",
       "    <tr>\n",
       "      <th>1</th>\n",
       "      <td>2</td>\n",
       "      <td>E223</td>\n",
       "      <td>47.58</td>\n",
       "      <td>27.60</td>\n",
       "      <td>None</td>\n",
       "      <td>None</td>\n",
       "      <td>2020-03-13 12:46:09</td>\n",
       "    </tr>\n",
       "    <tr>\n",
       "      <th>2</th>\n",
       "      <td>3</td>\n",
       "      <td>E223</td>\n",
       "      <td>47.52</td>\n",
       "      <td>27.63</td>\n",
       "      <td>None</td>\n",
       "      <td>None</td>\n",
       "      <td>2020-03-13 12:46:11</td>\n",
       "    </tr>\n",
       "  </tbody>\n",
       "</table>\n",
       "</div>"
      ],
      "text/plain": [
       "   id roomName humidity temperature outsideTemp   CO2            readDate\n",
       "0   1     E223    47.63       27.64        None  None 2020-03-13 12:46:06\n",
       "1   2     E223    47.58       27.60        None  None 2020-03-13 12:46:09\n",
       "2   3     E223    47.52       27.63        None  None 2020-03-13 12:46:11"
      ]
     },
     "execution_count": 8,
     "metadata": {},
     "output_type": "execute_result"
    }
   ],
   "source": [
    "import mysql.connector\n",
    "import pandas as pd\n",
    "\n",
    "i40db = mysql.connector.connect(\n",
    "  host=\"localhost\",\n",
    "  user=\"I40\",\n",
    "  passwd=\"Password1\",\n",
    "  database=\"Industry40db\"\n",
    ")\n",
    "\n",
    "\n",
    "df = pd.read_sql('SELECT * FROM roomData', con=i40db)\n",
    "\n",
    "df.head()"
   ]
  },
  {
   "cell_type": "code",
   "execution_count": 9,
   "metadata": {},
   "outputs": [],
   "source": [
    "i40db.close()"
   ]
  },
  {
   "cell_type": "code",
   "execution_count": 10,
   "metadata": {},
   "outputs": [
    {
     "data": {
      "text/html": [
       "<div>\n",
       "<style scoped>\n",
       "    .dataframe tbody tr th:only-of-type {\n",
       "        vertical-align: middle;\n",
       "    }\n",
       "\n",
       "    .dataframe tbody tr th {\n",
       "        vertical-align: top;\n",
       "    }\n",
       "\n",
       "    .dataframe thead th {\n",
       "        text-align: right;\n",
       "    }\n",
       "</style>\n",
       "<table border=\"1\" class=\"dataframe\">\n",
       "  <thead>\n",
       "    <tr style=\"text-align: right;\">\n",
       "      <th></th>\n",
       "      <th>id</th>\n",
       "      <th>roomName</th>\n",
       "      <th>humidity</th>\n",
       "      <th>temperature</th>\n",
       "      <th>outsideTemp</th>\n",
       "      <th>CO2</th>\n",
       "      <th>readDate</th>\n",
       "    </tr>\n",
       "  </thead>\n",
       "  <tbody>\n",
       "    <tr>\n",
       "      <th>0</th>\n",
       "      <td>1</td>\n",
       "      <td>E223</td>\n",
       "      <td>47.63</td>\n",
       "      <td>27.64</td>\n",
       "      <td>None</td>\n",
       "      <td>None</td>\n",
       "      <td>2020-03-13 12:46:06</td>\n",
       "    </tr>\n",
       "    <tr>\n",
       "      <th>1</th>\n",
       "      <td>2</td>\n",
       "      <td>E223</td>\n",
       "      <td>47.58</td>\n",
       "      <td>27.60</td>\n",
       "      <td>None</td>\n",
       "      <td>None</td>\n",
       "      <td>2020-03-13 12:46:09</td>\n",
       "    </tr>\n",
       "    <tr>\n",
       "      <th>2</th>\n",
       "      <td>3</td>\n",
       "      <td>E223</td>\n",
       "      <td>47.52</td>\n",
       "      <td>27.63</td>\n",
       "      <td>None</td>\n",
       "      <td>None</td>\n",
       "      <td>2020-03-13 12:46:11</td>\n",
       "    </tr>\n",
       "  </tbody>\n",
       "</table>\n",
       "</div>"
      ],
      "text/plain": [
       "   id roomName humidity temperature outsideTemp   CO2            readDate\n",
       "0   1     E223    47.63       27.64        None  None 2020-03-13 12:46:06\n",
       "1   2     E223    47.58       27.60        None  None 2020-03-13 12:46:09\n",
       "2   3     E223    47.52       27.63        None  None 2020-03-13 12:46:11"
      ]
     },
     "execution_count": 10,
     "metadata": {},
     "output_type": "execute_result"
    }
   ],
   "source": [
    "df.tail()"
   ]
  },
  {
   "cell_type": "code",
   "execution_count": 11,
   "metadata": {},
   "outputs": [
    {
     "name": "stdout",
     "output_type": "stream",
     "text": [
      "0   2020-03-13 12:46:06\n",
      "1   2020-03-13 12:46:09\n",
      "2   2020-03-13 12:46:11\n",
      "Name: readDate, dtype: datetime64[ns]\n"
     ]
    }
   ],
   "source": [
    "print(df['readDate'])"
   ]
  },
  {
   "cell_type": "code",
   "execution_count": 15,
   "metadata": {},
   "outputs": [
    {
     "data": {
      "text/html": [
       "<div>\n",
       "<style scoped>\n",
       "    .dataframe tbody tr th:only-of-type {\n",
       "        vertical-align: middle;\n",
       "    }\n",
       "\n",
       "    .dataframe tbody tr th {\n",
       "        vertical-align: top;\n",
       "    }\n",
       "\n",
       "    .dataframe thead th {\n",
       "        text-align: right;\n",
       "    }\n",
       "</style>\n",
       "<table border=\"1\" class=\"dataframe\">\n",
       "  <thead>\n",
       "    <tr style=\"text-align: right;\">\n",
       "      <th></th>\n",
       "      <th>id</th>\n",
       "      <th>roomName</th>\n",
       "      <th>humidity</th>\n",
       "      <th>temperature</th>\n",
       "      <th>outsideTemp</th>\n",
       "      <th>CO2</th>\n",
       "      <th>readDate</th>\n",
       "    </tr>\n",
       "  </thead>\n",
       "  <tbody>\n",
       "    <tr>\n",
       "      <th>0</th>\n",
       "      <td>1</td>\n",
       "      <td>E223</td>\n",
       "      <td>47.63</td>\n",
       "      <td>27.64</td>\n",
       "      <td>None</td>\n",
       "      <td>None</td>\n",
       "      <td>2020-03-13 12:46:06</td>\n",
       "    </tr>\n",
       "    <tr>\n",
       "      <th>1</th>\n",
       "      <td>2</td>\n",
       "      <td>E223</td>\n",
       "      <td>47.58</td>\n",
       "      <td>27.60</td>\n",
       "      <td>None</td>\n",
       "      <td>None</td>\n",
       "      <td>2020-03-13 12:46:09</td>\n",
       "    </tr>\n",
       "    <tr>\n",
       "      <th>2</th>\n",
       "      <td>3</td>\n",
       "      <td>E223</td>\n",
       "      <td>47.52</td>\n",
       "      <td>27.63</td>\n",
       "      <td>None</td>\n",
       "      <td>None</td>\n",
       "      <td>2020-03-13 12:46:11</td>\n",
       "    </tr>\n",
       "  </tbody>\n",
       "</table>\n",
       "</div>"
      ],
      "text/plain": [
       "   id roomName humidity temperature outsideTemp   CO2            readDate\n",
       "0   1     E223    47.63       27.64        None  None 2020-03-13 12:46:06\n",
       "1   2     E223    47.58       27.60        None  None 2020-03-13 12:46:09\n",
       "2   3     E223    47.52       27.63        None  None 2020-03-13 12:46:11"
      ]
     },
     "execution_count": 15,
     "metadata": {},
     "output_type": "execute_result"
    }
   ],
   "source": [
    "df.head()"
   ]
  },
  {
   "cell_type": "code",
   "execution_count": null,
   "metadata": {},
   "outputs": [],
   "source": []
  },
  {
   "cell_type": "code",
   "execution_count": null,
   "metadata": {},
   "outputs": [],
   "source": []
  }
 ],
 "metadata": {
  "kernelspec": {
   "display_name": "Python 3",
   "language": "python",
   "name": "python3"
  },
  "language_info": {
   "codemirror_mode": {
    "name": "ipython",
    "version": 3
   },
   "file_extension": ".py",
   "mimetype": "text/x-python",
   "name": "python",
   "nbconvert_exporter": "python",
   "pygments_lexer": "ipython3",
   "version": "3.6.9"
  }
 },
 "nbformat": 4,
 "nbformat_minor": 4
}
